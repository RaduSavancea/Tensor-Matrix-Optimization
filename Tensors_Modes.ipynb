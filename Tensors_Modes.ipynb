{
 "cells": [
  {
   "cell_type": "markdown",
   "id": "577bafde-b5af-4f05-bba2-65775b45f887",
   "metadata": {},
   "source": [
    "# Problem Sheet 9 - Tensors and their basic operations\n",
    "\n",
    "**Submission until January 23 at 5 p.m. in the corresponding folder in StudIP.**\n",
    "\n",
    "This exercise sheet is about tensors and their basic operations. Let's introduce a few important functions in `numpy` you may find useful for the following exercises and look at a few examples.\n",
    "\n",
    "At first we consider `numpy.reshape`. This function is used to reshape a multi-dimensional array to another multi-dimensional array. The function `numpy.reshape` has the field `order` with which we are able to determine the type of ordering of the reshaping. If you set `order = \"C\"`, it corresponds to the lexicographic ordering (used in the programming language C) and if you set `order = \"F\"`, it corresponds to the colexicographic ordering (used in Fortran).\n",
    "\n",
    "Execute the following code to see the difference between lexicographic and colexicographic ordering."
   ]
  },
  {
   "cell_type": "code",
   "execution_count": 1,
   "id": "312171c1-c5b3-442a-811a-84c1a3337829",
   "metadata": {
    "tags": []
   },
   "outputs": [
    {
     "name": "stdout",
     "output_type": "stream",
     "text": [
      "Lexicographic ordering\n",
      "\n",
      " 1st frontal Slice of A:\n",
      " [[0 2]\n",
      " [4 6]]\n",
      "\n",
      " 2nd frontal Slice of A:\n",
      " [[1 3]\n",
      " [5 7]]\n",
      "\n",
      "Colexicographic ordering\n",
      "\n",
      " 1st frontal Slice of B:\n",
      " [[0 2]\n",
      " [1 3]]\n",
      "\n",
      " 2nd frontal Slice of B:\n",
      " [[4 6]\n",
      " [5 7]]\n"
     ]
    }
   ],
   "source": [
    "import numpy as np\n",
    "\n",
    "A = np.arange(8).reshape((2,2,2), order=\"C\")\n",
    "print(\"Lexicographic ordering\")\n",
    "print(\"\\n 1st frontal Slice of A:\\n\", A[:,:,0])\n",
    "print(\"\\n 2nd frontal Slice of A:\\n\", A[:,:,1])\n",
    "B = np.arange(8).reshape((2,2,2), order=\"F\")\n",
    "print(\"\\nColexicographic ordering\")\n",
    "print(\"\\n 1st frontal Slice of B:\\n\", B[:,:,0])\n",
    "print(\"\\n 2nd frontal Slice of B:\\n\", B[:,:,1])"
   ]
  },
  {
   "cell_type": "markdown",
   "id": "4558b61d-1efb-4865-90e0-d9a279db725c",
   "metadata": {},
   "source": [
    "Now we consider `numpy.ravel`. This function is used to reshape a multi-dimensional array to an one-dimensional array. The function `numpy.ravel` has the field `order` with which we are able to determine the type of ordering of the vectorization. If you set `order = \"C\"`, it corresponds to the lexicographic ordering and if you set `order = \"F\"`, it corresponds to the colexicographic ordering.\n",
    "\n",
    "Execute the following code to see the difference of vectorizing tensor `B` in lexicographic and colexicographic ordering."
   ]
  },
  {
   "cell_type": "code",
   "execution_count": 2,
   "id": "cfde3a01-3e28-4bf9-ad3d-2407d0ae3734",
   "metadata": {
    "tags": []
   },
   "outputs": [
    {
     "name": "stdout",
     "output_type": "stream",
     "text": [
      "Lexicographic ordering\n",
      "\n",
      " Vectorization: [0 4 2 6 1 5 3 7]\n",
      "\n",
      "Colexicographic ordering\n",
      "\n",
      " Vectorization: [0 1 2 3 4 5 6 7]\n"
     ]
    }
   ],
   "source": [
    "print(\"Lexicographic ordering\")\n",
    "print(\"\\n Vectorization:\", np.ravel(B, order=\"C\"))\n",
    "print(\"\\nColexicographic ordering\")\n",
    "print(\"\\n Vectorization:\", np.ravel(B, order=\"F\"))"
   ]
  },
  {
   "cell_type": "markdown",
   "id": "12162539",
   "metadata": {},
   "source": [
    "**Task: What happens if we do the same for $A$? (1 point)**"
   ]
  },
  {
   "cell_type": "code",
   "execution_count": 3,
   "id": "81a6f38b-170a-4d9a-a167-57c48c5c2f80",
   "metadata": {
    "tags": []
   },
   "outputs": [
    {
     "name": "stdout",
     "output_type": "stream",
     "text": [
      "Lexicographic ordering\n",
      "\n",
      " Vectorization: [0 1 2 3 4 5 6 7]\n",
      "\n",
      "Colexicographic ordering\n",
      "\n",
      " Vectorization: [0 4 2 6 1 5 3 7]\n"
     ]
    }
   ],
   "source": [
    "print(\"Lexicographic ordering\")\n",
    "print(\"\\n Vectorization:\", np.ravel(A, order=\"C\"))\n",
    "print(\"\\nColexicographic ordering\")\n",
    "print(\"\\n Vectorization:\", np.ravel(A, order=\"F\"))"
   ]
  },
  {
   "cell_type": "markdown",
   "id": "48d01605-a4a0-469a-97f9-5f13dfc6e556",
   "metadata": {},
   "source": [
    "It is always reversed"
   ]
  },
  {
   "cell_type": "markdown",
   "id": "0e33a33e",
   "metadata": {},
   "source": []
  },
  {
   "cell_type": "markdown",
   "id": "6786e833-2149-4a1e-a02c-04d66df21a20",
   "metadata": {},
   "source": [
    "Lastly we consider the function `numpy.swapaxes`. This function is used to swap two dimensions of a multi-dimensional array. If we consider a two-dimensional array, then `numpy.swapaxes` is nothing else than `numpy.transpose`.\n",
    "\n",
    "Execute the following code to see two examples of the function."
   ]
  },
  {
   "cell_type": "code",
   "execution_count": 4,
   "id": "1f17736c-5583-4245-88e3-6e8901e22b9b",
   "metadata": {
    "tags": []
   },
   "outputs": [
    {
     "name": "stdout",
     "output_type": "stream",
     "text": [
      "Matrix A:\n",
      " [[0 2 4 6 8]\n",
      " [1 3 5 7 9]]\n",
      "\n",
      "Matrix A with swapped axes 0 and 1:\n",
      " [[0 1]\n",
      " [2 3]\n",
      " [4 5]\n",
      " [6 7]\n",
      " [8 9]]\n",
      "\n",
      "Tensor X:\n",
      "\n",
      " 1st frontal Slice of X:\n",
      " [[0 3]\n",
      " [1 4]\n",
      " [2 5]]\n",
      "\n",
      " 2nd frontal Slice of X:\n",
      " [[ 6  9]\n",
      " [ 7 10]\n",
      " [ 8 11]]\n",
      "\n",
      "Tensor X with swapped axes 0 and 1:\n",
      "\n",
      " 1st frontal Slice of X:\n",
      " [[0 1 2]\n",
      " [3 4 5]]\n",
      "\n",
      " 2nd frontal Slice of X:\n",
      " [[ 6  7  8]\n",
      " [ 9 10 11]]\n"
     ]
    }
   ],
   "source": [
    "A = np.arange(10).reshape((2,5), order=\"F\")\n",
    "print(\"Matrix A:\\n\", A)\n",
    "print(\"\\nMatrix A with swapped axes 0 and 1:\\n\", np.swapaxes(A,0,1)) \n",
    "X =  np.arange(12).reshape((3,2,2), order=\"F\")\n",
    "print(\"\\nTensor X:\")\n",
    "print(\"\\n 1st frontal Slice of X:\\n\", X[:,:,0])\n",
    "print(\"\\n 2nd frontal Slice of X:\\n\", X[:,:,1])\n",
    "print(\"\\nTensor X with swapped axes 0 and 1:\") \n",
    "print(\"\\n 1st frontal Slice of X:\\n\", np.swapaxes(X,0,1)[:,:,0])\n",
    "print(\"\\n 2nd frontal Slice of X:\\n\", np.swapaxes(X,0,1)[:,:,1])"
   ]
  },
  {
   "cell_type": "markdown",
   "id": "2d41a60f-fae7-4de5-b751-43e1a50d846b",
   "metadata": {},
   "source": [
    "# Task 1: Creating a tensor\n",
    "\n",
    "In this task we want to generate a tensor and get familiar with the functions introduced above.\n",
    "\n",
    "A tensor can be represented in multiple ways. The simplest is the slice representation through multiple matrices.\n",
    "\n",
    "Let's consider the tensor $X$ defined by its frontal slices:\n",
    "\n",
    "$$\n",
    "   X_1 = \n",
    "   \\left[\n",
    "   \\begin{matrix}\n",
    "   1  & 4  & 7  & 10 \\\\\n",
    "   2  & 5 & 8 & 11 \\\\\n",
    "   3 & 6 & 9 & 12\n",
    "   \\end{matrix}\n",
    "   \\right]\n",
    "$$\n",
    "\n",
    "and \n",
    "\n",
    "$$\n",
    "   X_2 =\n",
    "   \\left[\n",
    "   \\begin{matrix}\n",
    "   13  & 16  & 19  & 22 \\\\\n",
    "   14  & 17 & 20 & 23 \\\\\n",
    "   15 & 18 & 21 & 24\n",
    "   \\end{matrix}\n",
    "   \\right]\n",
    "$$"
   ]
  },
  {
   "cell_type": "markdown",
   "id": "5982589b-20a9-4d26-a41c-7e7274c9c4fe",
   "metadata": {},
   "source": [
    "**Task: Use `numpy.reshape` to generate the tensor $X$. Print the frontal slices and the column fibers of $X$. (1 points)**"
   ]
  },
  {
   "cell_type": "code",
   "execution_count": 5,
   "id": "ea0f29ab-00fb-48d8-b9c4-a47e9acabfde",
   "metadata": {
    "tags": []
   },
   "outputs": [
    {
     "name": "stdout",
     "output_type": "stream",
     "text": [
      "Frontal Slices of X are: \n",
      "[[ 1  4  7 10]\n",
      " [ 2  5  8 11]\n",
      " [ 3  6  9 12]]\n",
      "-------\n",
      "[[13 16 19 22]\n",
      " [14 17 20 23]\n",
      " [15 18 21 24]]\n",
      "Fibers of X are: \n",
      "[1 2 3]\n",
      "[4 5 6]\n",
      "[7 8 9]\n",
      "[10 11 12]\n",
      "[13 14 15]\n",
      "[16 17 18]\n",
      "[19 20 21]\n",
      "[22 23 24]\n"
     ]
    }
   ],
   "source": [
    "X = np.arange(start=1, stop=25).reshape(3,4, 2, order=\"F\")\n",
    "print(\"Frontal Slices of X are: \")\n",
    "# Frontal Slices\n",
    "print(X[:, :, 0])\n",
    "print(\"-------\")\n",
    "print(X[:, :, 1])\n",
    "\n",
    "#Fibers\n",
    "print(\"Fibers of X are: \")\n",
    "for i in range(X[:, :, 0].shape[1]):\n",
    "    print(X[:, i, 0])\n",
    "    \n",
    "for i in range(X[:, :, 1].shape[1]):\n",
    "    print(X[:, i, 1])"
   ]
  },
  {
   "cell_type": "code",
   "execution_count": 6,
   "id": "0f96e9ba-ef71-496f-9861-c3609d1852aa",
   "metadata": {
    "tags": []
   },
   "outputs": [
    {
     "data": {
      "text/plain": [
       "(3, 4)"
      ]
     },
     "execution_count": 6,
     "metadata": {},
     "output_type": "execute_result"
    }
   ],
   "source": [
    "X[:, :, 0].shape"
   ]
  },
  {
   "cell_type": "markdown",
   "id": "ac831eca-03b0-4206-ab66-9864821758af",
   "metadata": {},
   "source": [
    "**Task: Use `numpy.ravel` to vectorize the tensor $X$ in lexicographic and colexicographic ordering. (1 points)**"
   ]
  },
  {
   "cell_type": "code",
   "execution_count": 7,
   "id": "098840f4-d19d-4dcd-bf90-7626efc5568f",
   "metadata": {
    "tags": []
   },
   "outputs": [
    {
     "name": "stdout",
     "output_type": "stream",
     "text": [
      "Lexicographic ordering\n",
      "\n",
      " Vectorization: [ 1 13  4 16  7 19 10 22  2 14  5 17  8 20 11 23  3 15  6 18  9 21 12 24]\n",
      "\n",
      "Colexicographic ordering\n",
      "\n",
      " Vectorization: [ 1  2  3  4  5  6  7  8  9 10 11 12 13 14 15 16 17 18 19 20 21 22 23 24]\n"
     ]
    }
   ],
   "source": [
    "print(\"Lexicographic ordering\")\n",
    "print(\"\\n Vectorization:\", np.ravel(X, order=\"C\"))\n",
    "print(\"\\nColexicographic ordering\")\n",
    "print(\"\\n Vectorization:\", np.ravel(X, order=\"F\"))"
   ]
  },
  {
   "cell_type": "markdown",
   "id": "bae80178-82b7-4bb7-9c98-978ad89322ac",
   "metadata": {},
   "source": [
    "**Task: Use `numpy.swapaxes` to restructre the tensor $X$ into a tensor of shape (4,3,2) and (2,4,3). Print the frontal slices of the new tensors. (1 points)**"
   ]
  },
  {
   "cell_type": "code",
   "execution_count": 8,
   "id": "702621b6-2ae9-448e-8397-472d083e9f55",
   "metadata": {
    "tags": []
   },
   "outputs": [
    {
     "name": "stdout",
     "output_type": "stream",
     "text": [
      "[[ 1 16 10 14]\n",
      " [ 8 23  6 21]]\n",
      "-------\n",
      "[[13  7 22  5]\n",
      " [20  3 18 12]]\n"
     ]
    }
   ],
   "source": [
    "X_new = X.reshape(2, 4, 3)\n",
    "\n",
    "# Frontal Slices\n",
    "print(X_new[:, :, 0])\n",
    "print(\"-------\")\n",
    "print(X_new[:, :, 1])"
   ]
  },
  {
   "cell_type": "markdown",
   "id": "fdcb2fc6-a2b7-4397-96b3-adba718d9f82",
   "metadata": {},
   "source": [
    "# Task 2: Outer product and Kronecker product\n",
    "\n",
    "In this task we want to get familiar with the outer product and Kronecker product. So let's consider the definition of the two products.\n",
    "\n",
    "The outer product of vectors $x^{(i)} \\in \\mathbb{R}^{n_{i}}, \\ i = 1, \\dots,d \\ $ is the tensor\n",
    "\n",
    "\\begin{align*}\n",
    "    X = x^{(1)} \\circ x^{(2)} \\circ \\cdots \\circ x^{(d)} \\in \\mathbb{R}^{n_{1} \\times n_{2} \\times \\cdots \\times n_{d}}\n",
    "\\end{align*}\n",
    "\n",
    "defined by\n",
    "\n",
    "\\begin{align*}\n",
    "    X(i_{1},i_{2},\\dots,i_{d}) = x^{(1)}_{i_{1}} x^{(2)}_{i_{2}} \\cdots x^{(d)}_{i_{d}} .\n",
    "\\end{align*}\n",
    "\n",
    "The Kronecker product of matrix $A \\in \\mathbb{R}^{m \\times n}$ and matrix $B \\in \\mathbb{R}^{p \\times q}$ is given by\n",
    "\n",
    "\\begin{align*}\n",
    "    A \\otimes B = \\left[ \\begin{array}{rrr}\n",
    "    a_{11}B & \\cdots & a_{1n}B \\\\\n",
    "\\vdots & \\ddots & \\vdots \\\\\n",
    "a_{m1}B & \\cdots & a_{mn}B \\\\\n",
    "\\end{array} \\right] \\in \\mathbb{R}^{mp \\times nq}.\n",
    "\\end{align*}\n"
   ]
  },
  {
   "cell_type": "markdown",
   "id": "a080b847-a5e4-41f8-811b-6c366448d49d",
   "metadata": {},
   "source": [
    "At first we want to implement the outer product and apply the product to the vectors $x = (1,2,3) \\in \\mathbb{R}^{3}$, $y = (4,5) \\in \\mathbb{R}^{2}$ and $z = (6,7,8) \\in \\mathbb{R}^{3}$. \n",
    "\n",
    "**Task: Generate the vectors `x`, `y` and `z`. Implement a function, which computes the outer product of a tensor and a vector. Compute the outer product $ x \\circ y \\circ z$ and print the frontal slices. (3 points)** \n",
    "\n",
    "Hint: If you have a tensor $A \\in \\mathbb{R}^{n_{1} \\times n_{2} \\times \\cdots \\times n_{d}}$ and a vector $v\\in \\mathbb{R}^{n_{(d+1)}}$, then the outer product $X = A \\circ v \\in \\mathbb{R}^{n_{1} \\times n_{2} \\times \\cdots \\times n_{(d+1)}}$ is given by\n",
    "\\begin{align*}\n",
    "    X(:,:,\\dots,:,i) = v_i \\cdot A \\qquad \\forall i = 1,2,\\dots,n_{(d+1)}.\n",
    "\\end{align*}\n",
    "The outer product $P = x \\circ y \\circ z$ for the given vectors looks as follows:\n",
    "\\begin{align*}\n",
    "    P(:,:,1) &= \\left[ \\begin{array}{rr}\n",
    "    24 & 30  \\\\\n",
    "48 & 60  \\\\\n",
    "72 & 90  \\\\\n",
    "\\end{array} \\right], \\\\\n",
    "    P(:,:,2) &= \\left[ \\begin{array}{rr}\n",
    "    28 & 35 \\\\\n",
    "56 & 70 \\\\\n",
    "84 & 105 \\\\\n",
    "\\end{array} \\right], \\\\\n",
    "    P(:,:,3) &= \\left[ \\begin{array}{rr}\n",
    "    32 & 40 \\\\\n",
    "64 & 80 \\\\\n",
    "96 & 120 \\\\\n",
    "\\end{array} \\right].\n",
    "\\end{align*}"
   ]
  },
  {
   "cell_type": "code",
   "execution_count": 9,
   "id": "e79b92e5-6328-4662-bced-755aefe9d27d",
   "metadata": {
    "tags": []
   },
   "outputs": [],
   "source": [
    "def outer_product(tenso, vec):\n",
    "    new = np.zeros(tenso.shape+tuple([vec.shape[0]])) #new tensor where the outer product will be saved\n",
    "    for i in range((vec.shape[0])):\n",
    "        new[..., i] = vec[i]*tenso #last dimension tensor element multiplication \n",
    "    return new"
   ]
  },
  {
   "cell_type": "code",
   "execution_count": 10,
   "id": "5bda6738-3097-4c0a-89c1-4f61eb2f5f1d",
   "metadata": {
    "tags": []
   },
   "outputs": [
    {
     "name": "stdout",
     "output_type": "stream",
     "text": [
      "The first slice: \n",
      " [[24. 30.]\n",
      " [48. 60.]\n",
      " [72. 90.]]\n",
      "The second slice: \n",
      " [[ 28.  35.]\n",
      " [ 56.  70.]\n",
      " [ 84. 105.]]\n",
      "The third slice: \n",
      " [[ 32.  40.]\n",
      " [ 64.  80.]\n",
      " [ 96. 120.]]\n"
     ]
    }
   ],
   "source": [
    "x = np.array([1,2,3])\n",
    "y = np.array([4, 5])\n",
    "z = np.array([6, 7, 8])\n",
    "outer_prod = outer_product(outer_product(x, y), z)\n",
    "print(f\"The first slice: \\n {outer_prod[:, :, 0]}\")    \n",
    "print(f\"The second slice: \\n {outer_prod[:, :, 1]}\")    \n",
    "print(f\"The third slice: \\n {outer_prod[:, :, 2]}\")     "
   ]
  },
  {
   "cell_type": "markdown",
   "id": "39524283-843d-4c5c-b1a8-ea72c01c56bd",
   "metadata": {},
   "source": [
    "Now we implement the Kronecker product and apply the product to the matrices $A \\in \\mathbb{R}^{2 \\times 2}$ and $B \\in \\mathbb{R}^{2 \\times 3}$, i.e.\n",
    "\n",
    "\\begin{align*}\n",
    "    A &= \\left[ \\begin{array}{rr}\n",
    "    1 & 3  \\\\\n",
    "2 & 4  \\\\\n",
    "\\end{array} \\right],\\\\\n",
    "    B &= \\left[ \\begin{array}{rrr}\n",
    "    1 & 3 & 5 \\\\\n",
    "2 & 4 & 6 \\\\\n",
    "\\end{array} \\right].\n",
    "\\end{align*}\n",
    "\n",
    "**Task: Generate the matrices $A$ and $B$. Implement a function, which computes the Kronecker product for two arrays. Compute the Kronecker product $A \\otimes B$ and print the resulting matrix. (3 points)**\n",
    "\n",
    "Hint: Keep in mind, that your function should be able to compute the Kronecker product of two matrices, two vectors or one vector and one matrix.\n",
    "The Kronecker product $A \\otimes B$ for the given matrices looks as follows:\n",
    "\n",
    "\\begin{align*}\n",
    "    A \\otimes B &= \\left[ \\begin{array}{rrrrrr}\n",
    "    1 & 3 & 5 & 3 & 9 & 15 \\\\\n",
    "    2 & 4 & 6 & 6 & 12 & 18  \\\\\n",
    "    2 & 6 & 10 & 4 & 12 & 20 \\\\\n",
    "    4 & 8 & 12 & 8 & 16 & 24 \\\\\n",
    "\\end{array} \\right] \\in \\mathbb{R}^{4 \\times 6}.\n",
    "\\end{align*}"
   ]
  },
  {
   "cell_type": "code",
   "execution_count": 11,
   "id": "2b8ab4b7-22df-4fd8-9eb0-2baa11036073",
   "metadata": {},
   "outputs": [],
   "source": [
    "def kronecker_product(a, b):\n",
    "    arr_blocks=[] # List of Matrix blocks to be reshaped\n",
    "    \n",
    "    if(len(a.shape)==1):\n",
    "        a = a[:, None]\n",
    "    if(len(b.shape)==1):\n",
    "        b = b[:, None] \n",
    "    shp =  a.shape[1]\n",
    "    for i in range(len(a.flatten())):\n",
    "        arr_blocks.append(a.flatten()[i]*b)\n",
    "        \n",
    "    tmp = arr_blocks[0]\n",
    "    \n",
    "    # The Blocks are concateneated horizontally firtly by the number of columns of A\n",
    "    block_horiz=[]\n",
    "    for i in range(1, len(arr_blocks)+1):\n",
    "        if ((i%shp)!=0):\n",
    "            tmp = np.hstack((tmp,  arr_blocks[i]))\n",
    "        else:\n",
    "            block_horiz.append(tmp)\n",
    "            if(i!=len(arr_blocks)):\n",
    "                tmp = arr_blocks[i]\n",
    "           \n",
    "    # Blocks are now concatenated verically to get the whole matrix\n",
    "    block_vert = block_horiz[0]\n",
    "    for i in range(1, len(block_horiz)):\n",
    "        block_vert = np.vstack((block_vert,block_horiz[i]))\n",
    "    return block_vert"
   ]
  },
  {
   "cell_type": "code",
   "execution_count": 12,
   "id": "00ed7630-bb3f-4daa-8762-edb0851301e3",
   "metadata": {
    "tags": []
   },
   "outputs": [
    {
     "data": {
      "text/plain": [
       "array([[ 1,  3,  5,  3,  9, 15],\n",
       "       [ 2,  4,  6,  6, 12, 18],\n",
       "       [ 2,  6, 10,  4, 12, 20],\n",
       "       [ 4,  8, 12,  8, 16, 24]])"
      ]
     },
     "execution_count": 12,
     "metadata": {},
     "output_type": "execute_result"
    }
   ],
   "source": [
    "a = np.array([[1, 3], [2,4]])\n",
    "b = np.array([[1,3, 5],[2, 4, 6]])\n",
    "kronecker_product(a, b)"
   ]
  },
  {
   "cell_type": "markdown",
   "id": "2fa3547d-2c02-426c-b5ec-cdf867f4efb4",
   "metadata": {},
   "source": [
    "Now that we have implemented the outer product und Kronecker product, we are able to check the relation between the two. From the lecture we know for $x^{(i)} \\in \\mathbb{R}^{n_{i}}, \\ i = 1, \\dots,d$ it holds\n",
    "\n",
    "\\begin{align*}\n",
    "    \\mathrm{vec} \\left(  x^{(1)} \\circ x^{(2)} \\circ \\cdots \\circ x^{(d)} \\right) = x^{(d)} \\otimes x^{(d-1)} \\otimes \\cdots \\otimes x^{(1)}.\n",
    "\\end{align*}\n",
    "\n",
    "Here we have to be careful since this equation is only valid if the vectorization follows the colexicographic ordering. \\\n",
    "If we consider lexicographic ordering for the vectorization, we would obtain\n",
    "\n",
    "\\begin{align*}\n",
    "    \\mathrm{vec} \\left(  x^{(1)} \\circ x^{(2)} \\circ \\cdots \\circ x^{(d)} \\right) = x^{(1)} \\otimes x^{(2)} \\otimes \\cdots \\otimes x^{(d)}.\n",
    "\\end{align*}\n",
    "\n",
    "We want to check both equations for the given vectors `x`, `y ` and `z`.\n",
    "\n",
    "**Task: Use the `np.ravel` function to vectorize your product and check that the two equations above are true for the given vectors `x`, `y` and `z` from the previous part. (2 points)**\n",
    "\n",
    "Hint: The `np.ravel` function has the field `order`. If you set `order = \"C\"`, it corresponds to the lexicographic ordering and if you set `order = \"F\"`, it corresponds to the colexicographic ordering."
   ]
  },
  {
   "cell_type": "code",
   "execution_count": 13,
   "id": "fadf9e53-3463-4d40-a10c-0162c6037a15",
   "metadata": {
    "tags": []
   },
   "outputs": [
    {
     "name": "stdout",
     "output_type": "stream",
     "text": [
      "0.0\n"
     ]
    }
   ],
   "source": [
    "# The equtions are true\n",
    "print(np.sum(np.ravel(outer_product(outer_product(x,y),z), order=\"F\") - kronecker_product(z,kronecker_product(y,x))))"
   ]
  },
  {
   "cell_type": "code",
   "execution_count": 14,
   "id": "8e425e0d-00ce-418e-accf-4b574325c3a5",
   "metadata": {
    "tags": []
   },
   "outputs": [
    {
     "name": "stdout",
     "output_type": "stream",
     "text": [
      "0.0\n"
     ]
    }
   ],
   "source": [
    "print(np.sum(np.ravel(outer_product(outer_product(x,y),z), order=\"C\") - kronecker_product(x,kronecker_product(y,z))))"
   ]
  },
  {
   "cell_type": "markdown",
   "id": "d12f1f9c-d9fb-4791-a675-567d6b6b807a",
   "metadata": {},
   "source": [
    "# Task 3: Mode-k product\n",
    "\n",
    "In this task we want to consider the mode-k product. So let's have a look at the definition.\n",
    "Let $X \\in \\mathbb{R}^{n_{1} \\times n_{2} \\times \\cdots \\times n_{d}}$ be a tensor and $A\\in \\mathbb{R}^{m \\times n_{k}}$ a matrix. The multiplication of each mode-k fiber by A is called the mode-k product\n",
    "\n",
    "\\begin{align*}\n",
    "    X \\times_{k} A \\in \\mathbb{R}^{n_{1} \\times \\cdots \\times n_{k-1} \\times m \\times n_{k+1} \\times \\cdots \\times n_{d}}\n",
    "\\end{align*}\n",
    "\n",
    "This is defined elementwise by\n",
    "\n",
    "\\begin{align*}\n",
    "    (X \\times_{k} A )(i_{1},\\dots,i_{k-1},j,i_{k+1},\\dots,i_{d}) = \\sum\\limits_{i_{k}=1}^{n_{k}} X(i_{1},\\dots,i_{k-1},i_{k},i_{k+1},\\dots,i_{d}) A(j,i_{k}) \\\\\n",
    "    \\forall \\ i_{l} = 1, \\dots,n_{l} \\ \\mathrm{and} \\ j = 1,\\dots,m \\ \\ \\mathrm{s.t.} \\ l \\in \\lbrace 1,\\dots,d \\rbrace \\! \\setminus \\! \\lbrace k \\rbrace\n",
    "\\end{align*}\n",
    "\n",
    "One can compute the mode-k product in a more direct way. To apply this we have to look at the mode-k unfolding. The mode-k unfolding is the matricization of a tensor $X$ and it is denoted as $X_{(k)}$. $X_{(k)}$ contains the mode-k fibers as columns in a colexicographic ordering. You can see a nice picture about that in the lecture on page 43 of the file `MMDS_5-Tensor_Factorizations-I-1.pdf`. Now we have\n",
    "\n",
    "\\begin{align*}\n",
    "    (X \\times_{k} A )_{(k)} = A \\cdot X_{(k)}.\n",
    "\\end{align*}\n",
    "\n",
    "To obtain $X \\times_{k} A$ we only have to reshape $A \\cdot X_{(k)}$.\n",
    "\n",
    "At first we want to implenent the mode-k product and apply the product to the above defined tensor $X \\in \\mathbb{R}^{3 \\times 4 \\times 2}$ and the matrix $A \\in \\mathbb{R}^{3 \\times 2}$, given as\n",
    "\n",
    "\\begin{align*}\n",
    "    A &= \\left[ \\begin{array}{rr}\n",
    "    1 & 0  \\\\\n",
    "0 & 2  \\\\\n",
    "1 & 1 \n",
    "\\end{array} \\right].\n",
    "\\end{align*}\n",
    "\n",
    "**Task: Generate the matrix $A$. Implement the mode-k product and compute the mode-3 product $X \\times_{3} A$. Print the frontal slices of $X \\times_{3} A$. (4 points)**\n",
    "\n",
    "Hint: Use the function `numpy.swapaxes` to restructure your tensor and then apply `numpy.reshape` to obtain the mode-k unfolding."
   ]
  },
  {
   "cell_type": "code",
   "execution_count": 15,
   "id": "bee5d26f-bb02-4ed5-b83e-1fca35d197a2",
   "metadata": {
    "tags": []
   },
   "outputs": [],
   "source": [
    "def modek_prod(tensor, matrix, mode):\n",
    "    return np.swapaxes(np.swapaxes(tensor, mode - 1, -1).dot(matrix.T), mode - 1, -1)"
   ]
  },
  {
   "cell_type": "code",
   "execution_count": 16,
   "id": "63946d6e-7aa6-4b91-a67b-4b1fc908fe58",
   "metadata": {
    "tags": []
   },
   "outputs": [],
   "source": [
    "a = np.array([[1, 0], [0,2], [1,1]])"
   ]
  },
  {
   "cell_type": "code",
   "execution_count": 17,
   "id": "d053e405-335d-4070-9cfe-4e25cc056285",
   "metadata": {
    "tags": []
   },
   "outputs": [
    {
     "name": "stdout",
     "output_type": "stream",
     "text": [
      "(3, 4, 2)\n",
      "(3, 4, 3)\n",
      "The first slice: \n",
      " [[ 1  4  7 10]\n",
      " [ 2  5  8 11]\n",
      " [ 3  6  9 12]]\n",
      "The second slice: \n",
      " [[26 32 38 44]\n",
      " [28 34 40 46]\n",
      " [30 36 42 48]]\n",
      "The third slice: \n",
      " [[14 20 26 32]\n",
      " [16 22 28 34]\n",
      " [18 24 30 36]]\n"
     ]
    }
   ],
   "source": [
    "print(X.shape)\n",
    "print(modek_prod(X, a , 3).shape)\n",
    "modek_ex = modek_prod(X, a , 3)\n",
    "print(f\"The first slice: \\n {modek_ex[:, :, 0]}\")    \n",
    "print(f\"The second slice: \\n {modek_ex[:, :, 1]}\")    \n",
    "print(f\"The third slice: \\n {modek_ex[:, :, 2]}\")    "
   ]
  },
  {
   "cell_type": "markdown",
   "id": "7c3b9aef-90a9-459d-8e4b-7b896fa4857f",
   "metadata": {},
   "source": [
    "In the lecture we have seen the following relation between the mode-k product and the kronecker product. Let $X \\in \\mathbb{R}^{n_{1} \\times n_{2} \\times \\cdots \\times n_{d}}$ be a tensor and $A_{k} \\in \\mathbb{R}^{m_{k} \\times n_{k}}$ be matrices for $k=1,\\dots,d$. Then it holds \n",
    "\n",
    "\\begin{align*}\n",
    "    \\mathrm{vec} \\big( X \\times_{1} A_{1} \\times_{2} A_{2} \\times_{3} \\cdots \\times_{d} A_{d} \\big) = \\big( A_{d} \\otimes A_{d-1} \\otimes \\cdots \\otimes A_{1} \\big) \\mathrm{vec}(X).\n",
    "\\end{align*}\n",
    "\n",
    "Here we have to be careful since this equation is only valid if the vectorization follows the colexicographic ordering. \n",
    "If we consider lexicographic ordering for the vectorization, we would obtain\n",
    "\n",
    "\\begin{align*}\n",
    "    \\mathrm{vec} \\big( X \\times_{1} A_{1} \\times_{2} A_{2} \\times_{3} \\cdots \\times_{d} A_{d} \\big) = \\big( A_{1} \\otimes A_{2} \\otimes \\cdots \\otimes A_{d} \\big) \\mathrm{vec}(X).\n",
    "\\end{align*}\n",
    "\n",
    "We want to check both equations for certain matrices $A_{1}, A_{2}$ and $A_{3}$ and the known tensor $X$. In the following we consider\n",
    "\\begin{align*}\n",
    "        A_{1} &= \\left[ \\begin{array}{rrr}\n",
    "    1 & 0 & 1  \\\\\n",
    "    1 & 2 & 1  \\\\\n",
    "    1 & 0 & 3  \\\\\n",
    "    2 & 0 & 0  \\\\\n",
    "    1 & 1 & 1 \n",
    "\\end{array} \\right], \\\\\n",
    "        A_{2} &= \\left[ \\begin{array}{rrrr}\n",
    "    1 & 0 & 2 & 0 \\\\\n",
    "    0 & -1 & 0 & -2\n",
    "\\end{array} \\right], \\\\\n",
    "A_{3} &= \\left[ \\begin{array}{rr}\n",
    "    0 & 2  \\\\\n",
    "    -1 & 0 \n",
    "\\end{array} \\right].\n",
    "\\end{align*}\n",
    "\n",
    "**Task: Use the `np.ravel` function to vectorize your product and check that both equations above are true for the given matrices $A_{1}$, $A_{2}$, $A_{3}$ and the tensor $X$. (2 points)**\n",
    "\n",
    "Hint: The `np.ravel` function has the field `order`. If you set `order = \"C\"`, it corresponds to the lexicographic ordering and if you set `order = \"F\"`, it corresponds to the colexicographic ordering."
   ]
  },
  {
   "cell_type": "code",
   "execution_count": 18,
   "id": "d9376608-338a-4912-87f9-2bd95e9d8d1f",
   "metadata": {
    "tags": []
   },
   "outputs": [],
   "source": [
    "A_1 = np.array([[1,0,1],[1,2,1],[1,0,3],[2,0,0],[1,1,1]])\n",
    "A_2 = np.array([[1,0,2,0],[0,-1,0,-2]])\n",
    "A_3 = np.array([[0,2],[-1,0]])"
   ]
  },
  {
   "cell_type": "code",
   "execution_count": 19,
   "id": "f8169e42-dcb6-4523-80a6-67c003e50675",
   "metadata": {
    "tags": []
   },
   "outputs": [
    {
     "name": "stdout",
     "output_type": "stream",
     "text": [
      "0\n",
      "0\n"
     ]
    }
   ],
   "source": [
    "# Equations is valid and we check it hier\n",
    "\n",
    "print(np.sum(np.ravel(modek_prod(modek_prod(modek_prod(X, A_1, 1), A_2, 2), A_3, 3), order=\"F\")\n",
    "-kronecker_product(kronecker_product(A_3, A_2), A_1).dot(np.ravel(X, order=\"F\")))) #colex first equation\n",
    "\n",
    "print(np.sum(np.ravel(modek_prod(modek_prod(modek_prod(X, A_1, 1), A_2, 2), A_3, 3), order=\"C\")\n",
    "-kronecker_product(kronecker_product(A_1, A_2), A_3).dot(np.ravel(X, order=\"C\")))) #lex second equation"
   ]
  },
  {
   "cell_type": "markdown",
   "id": "3d744c46-6202-4883-a1b6-5cd1a8fba897",
   "metadata": {},
   "source": [
    "# Task 4: Khatri-Rao product\n",
    "\n",
    "In this task we consider the Khatri-Rao product. So let's have a look at the definition. The Khatri-Rao product $A \\odot B$ of the two matrices $A \\in \\mathbb{R}^{m,n}$ and $B \\in \\mathbb{R}^{p,n}$ is given as\n",
    "\n",
    "\\begin{align*}\n",
    "    A \\odot B = \\big[A(:,1) \\otimes B(:,1) \\ \\ A(:,2) \\otimes B(:,2) \\ \\ \\cdots \\ \\ A(:,n) \\otimes B(:,n) \\big] \\in \\mathbb{R}^{mp \\times n }.\n",
    "\\end{align*}\n",
    "\n",
    "At first we want to implenent the Khatri-Rao product and apply the product to two given matrices $A$ and $B$. In the following we consider\n",
    "\n",
    "\\begin{align*}\n",
    " A &= \\left[ \\begin{array}{rrrr}\n",
    "    3 & 1 & 3 & 0 \\\\\n",
    "    0 & -1 & -1 & 0 \\\\\n",
    "    1 & -1 & 2 & 3\n",
    "\\end{array} \\right], \\\\\n",
    "B &= \\left[ \\begin{array}{rrrr}\n",
    "    0 & 2 & 0 & 4 \\\\\n",
    "    1 & 2 & 4 & 8 \n",
    "\\end{array} \\right].\n",
    "\\end{align*}\n",
    "\n",
    "**Task: Write a function that takes two matrices with the same number of columns as an input and returns their Khatri-Rao product. Compute the Khatri-Rao product $A \\odot B$ and plot the resulting matrix. (2 points)**\n",
    "\n",
    "Hint: Use your implemented function which computes the Kronecker product."
   ]
  },
  {
   "cell_type": "code",
   "execution_count": 20,
   "id": "1624e87e-ce7d-4f1d-8151-08b12b273886",
   "metadata": {
    "tags": []
   },
   "outputs": [],
   "source": [
    "A = np.array([[3,1,3,0],[0,-1,-1,0],[1,-1,2,3]])\n",
    "B = np.array([[0,2,0,4],[1,2,4,8]])"
   ]
  },
  {
   "cell_type": "code",
   "execution_count": 21,
   "id": "7d809dc8-e6f1-4643-86e5-5f06c7ed081a",
   "metadata": {},
   "outputs": [],
   "source": [
    "def khatri_rao(a, b):\n",
    "    return [kronecker_product(a[:, i], b[:, i]) for i in range(a.shape[1])]"
   ]
  },
  {
   "cell_type": "code",
   "execution_count": 22,
   "id": "2480fa64-01cb-497a-b4e1-e4289c86e18d",
   "metadata": {
    "tags": []
   },
   "outputs": [
    {
     "data": {
      "text/plain": [
       "[array([[0],\n",
       "        [3],\n",
       "        [0],\n",
       "        [0],\n",
       "        [0],\n",
       "        [1]]),\n",
       " array([[ 2],\n",
       "        [ 2],\n",
       "        [-2],\n",
       "        [-2],\n",
       "        [-2],\n",
       "        [-2]]),\n",
       " array([[ 0],\n",
       "        [12],\n",
       "        [ 0],\n",
       "        [-4],\n",
       "        [ 0],\n",
       "        [ 8]]),\n",
       " array([[ 0],\n",
       "        [ 0],\n",
       "        [ 0],\n",
       "        [ 0],\n",
       "        [12],\n",
       "        [24]])]"
      ]
     },
     "execution_count": 22,
     "metadata": {},
     "output_type": "execute_result"
    }
   ],
   "source": [
    "khatri_rao(A, B)"
   ]
  },
  {
   "cell_type": "code",
   "execution_count": 41,
   "id": "d3897245-9af0-4292-8b99-39b85346e8f9",
   "metadata": {},
   "outputs": [],
   "source": [
    "a = np.arange(1, 19).reshape(3,3,2, order=\"f\")"
   ]
  },
  {
   "cell_type": "code",
   "execution_count": 57,
   "id": "5407dae5-8579-4cbc-b7f5-69db341c4e5b",
   "metadata": {},
   "outputs": [],
   "source": [
    "b = np.arange(1, 13).reshape((2,3,2), order=\"f\")"
   ]
  },
  {
   "cell_type": "code",
   "execution_count": 66,
   "id": "623334f4-320a-4a0d-9a40-cbb21628b119",
   "metadata": {},
   "outputs": [
    {
     "data": {
      "text/plain": [
       "(3, 3, 3, 2)"
      ]
     },
     "execution_count": 66,
     "metadata": {},
     "output_type": "execute_result"
    }
   ],
   "source": [
    "np.tensordot(a, b, axes=([2], [0])).shape"
   ]
  },
  {
   "cell_type": "code",
   "execution_count": 71,
   "id": "f9b754b7-47e8-4abf-87b9-a6341a2faf48",
   "metadata": {},
   "outputs": [],
   "source": [
    "a = np.arange(60.).reshape(3,4,5)\n",
    "b = np.arange(24.).reshape(4,3,2)\n",
    "c = np.tensordot(a,b, axes=([1,0],[0,1]))"
   ]
  },
  {
   "cell_type": "code",
   "execution_count": 72,
   "id": "05555ca7-2642-4148-aa8e-8df292f91716",
   "metadata": {},
   "outputs": [
    {
     "data": {
      "text/plain": [
       "array([[4400., 4730.],\n",
       "       [4532., 4874.],\n",
       "       [4664., 5018.],\n",
       "       [4796., 5162.],\n",
       "       [4928., 5306.]])"
      ]
     },
     "execution_count": 72,
     "metadata": {},
     "output_type": "execute_result"
    }
   ],
   "source": [
    "c"
   ]
  },
  {
   "cell_type": "code",
   "execution_count": 73,
   "id": "d6aad82b-8963-4a76-9031-fe9bb9af5716",
   "metadata": {},
   "outputs": [],
   "source": [
    "d = np.tensordot(a,b, axes=([0,1],[1,0]))"
   ]
  },
  {
   "cell_type": "code",
   "execution_count": 74,
   "id": "00c0ef5b-b880-405f-8d28-e1eaef286f6b",
   "metadata": {},
   "outputs": [
    {
     "data": {
      "text/plain": [
       "array([[4400., 4730.],\n",
       "       [4532., 4874.],\n",
       "       [4664., 5018.],\n",
       "       [4796., 5162.],\n",
       "       [4928., 5306.]])"
      ]
     },
     "execution_count": 74,
     "metadata": {},
     "output_type": "execute_result"
    }
   ],
   "source": [
    "d"
   ]
  },
  {
   "cell_type": "code",
   "execution_count": null,
   "id": "ca1158e4-537a-427b-983a-758ab1b532b5",
   "metadata": {},
   "outputs": [],
   "source": []
  }
 ],
 "metadata": {
  "kernelspec": {
   "display_name": "Python 3 (ipykernel)",
   "language": "python",
   "name": "python3"
  },
  "language_info": {
   "codemirror_mode": {
    "name": "ipython",
    "version": 3
   },
   "file_extension": ".py",
   "mimetype": "text/x-python",
   "name": "python",
   "nbconvert_exporter": "python",
   "pygments_lexer": "ipython3",
   "version": "3.11.7"
  }
 },
 "nbformat": 4,
 "nbformat_minor": 5
}
