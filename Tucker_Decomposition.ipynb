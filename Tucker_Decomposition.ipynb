{
 "cells": [
  {
   "cell_type": "markdown",
   "id": "990d4bcf-1c74-490b-bedb-06e907ef970b",
   "metadata": {},
   "source": [
    "# Problem Sheet 10 - Tucker decomposition\n",
    "\n",
    "**Submission until January 30 at 7 p.m. in the corresponding folder in StudIP.**\n",
    "\n",
    "This exercise sheet is about the Tucker decomposition. The Tucker decomposition for a tensor $X \\in \\mathbb{R}^{n_{1} \\times \\dots \\times n_{d}}$ is denoted by $[G; U_{1}, \\dots, U_{d} ]$ such that\n",
    "\n",
    "\\begin{align*}\n",
    "    [G; U_{1}, \\dots, U_{d} ] :=  \\ G \\times_{1} U_{1} \\times_{2} U_{2} \\times_{3} \\dots \\times_{d} U_{d} = X.\n",
    "\\end{align*}\n",
    "\n",
    "Unfortunately, the Tucker decomposition is not unique. Therefore we will consider the Higher-order singular value decomposition (HOSVD) to compute one Tucker decomposition of a tensor. The HoSVD will be repeated later."
   ]
  },
  {
   "cell_type": "markdown",
   "id": "143505ed-3c3a-4b48-aee8-baf068ba3bce",
   "metadata": {},
   "source": [
    "# Task 1: Load Miranda Turbulent Flow tensor"
   ]
  },
  {
   "cell_type": "markdown",
   "id": "b48b7056-3cc2-4a13-a1b7-13f427f01c9c",
   "metadata": {},
   "source": [
    "The first task is just about loading special packages und downloading a certain data set. We will download the **Miranda Turbulent Flow** tensor `density.mat` from the GitLab repository https://gitlab.com/tensors/tensor_data_miranda_sim. There you can find some more information about the data set. We will use this tensor in the fourth task to see a nice application for tensor decomposition."
   ]
  },
  {
   "cell_type": "markdown",
   "id": "4badcf8a-d7ef-404e-ae91-7caa0829ce6b",
   "metadata": {},
   "source": [
    "Execute the following code to load import packages."
   ]
  },
  {
   "cell_type": "code",
   "execution_count": 1,
   "id": "0dacac6b-f2ac-42cf-a1c0-c394834ff6c1",
   "metadata": {},
   "outputs": [],
   "source": [
    "import numpy as np\n",
    "import pandas as pd\n",
    "import matplotlib.pyplot as plt\n",
    "from sklearn.utils.extmath import randomized_svd\n",
    "import scipy.io\n"
   ]
  },
  {
   "cell_type": "markdown",
   "id": "1d99e692-c0a6-476f-a4ff-f929a3bca8cf",
   "metadata": {},
   "source": [
    "Execute the following code to install the package `wget` and download the **Miranda Turbulent Flow** tensor `density.mat`."
   ]
  },
  {
   "cell_type": "code",
   "execution_count": 2,
   "id": "a4de4274-d191-4f85-82fc-2db95e20f3b1",
   "metadata": {
    "tags": []
   },
   "outputs": [
    {
     "name": "stdout",
     "output_type": "stream",
     "text": [
      "Requirement already satisfied: wget in /opt/conda/lib/python3.11/site-packages (3.2)\n"
     ]
    }
   ],
   "source": [
    "import sys\n",
    "!{sys.executable} -m pip install wget\n",
    "import wget\n",
    "url = \"https://gitlab.com/tensors/tensor_data_miranda_sim/-/raw/main/density.mat?ref_type=heads&inline=false\"\n",
    "response = wget.download(url, \"density.mat\")"
   ]
  },
  {
   "cell_type": "markdown",
   "id": "e07001bf-64da-41a3-97e2-599390167aa1",
   "metadata": {},
   "source": [
    "Execute the following code to load the **Miranda Turbulent Flow** tensor and save a subtensor of it into `data`."
   ]
  },
  {
   "cell_type": "code",
   "execution_count": 3,
   "id": "cff2ac75-410f-4607-bb06-8c6dad87dd8b",
   "metadata": {
    "tags": []
   },
   "outputs": [],
   "source": [
    "file = scipy.io.loadmat('density.mat')\n",
    "data = file['density'][500:900,:,:]"
   ]
  },
  {
   "cell_type": "markdown",
   "id": "a4fa5eec-110c-4c08-9466-fcc74f31aaaf",
   "metadata": {},
   "source": [
    "### ATTENTION! \n",
    "Please keep in mind that we want to consider a tensor of size $400 \\times 256 \\times 256$. To work with such a tensor can be numerically very expensive. Therefore please avoid unnecessary loops or unnecessary calculations of the SVD. If you have to compute the SVD use the function `randomized_svd`. It takes a matrix and a rank as input. For further information look at https://scikit-learn.org/stable/modules/generated/sklearn.utils.extmath.randomized_svd.html. "
   ]
  },
  {
   "cell_type": "markdown",
   "id": "e4e1466e-23de-4284-9448-26f50c646893",
   "metadata": {},
   "source": [
    "# Task 2: Higher-order singular value decomposition (HOSVD)"
   ]
  },
  {
   "cell_type": "markdown",
   "id": "a098a1ff-ae39-486b-ac63-7259311ca6ea",
   "metadata": {},
   "source": [
    "In this task we want to consider the Higher-order singular value decompostion (HOSVD). Let's repeat the HOSVD. \n",
    "\n",
    "The HOSVD with multirank $r = (r_{1}, \\dots, r_{d})$ for a tensor $X \\in \\mathbb{R}^{n_{1} \\times \\dots \\times n_{d}}$ is given by the set $[G; U_{r_{1}}, \\dots, U_{r_{d}} ]$ and it is determined by the truncated SVD of the unfoldings $X_{(k)}$ of $X$. The truncated SVD of the unfoldings $X_{(k)}$ is given as follows\n",
    "\n",
    "\\begin{align*}\n",
    "    X_{(k)} \\approx U_{r_{k}} \\Sigma_{r_{k}} V^{\\mathrm{T}}_{r_{k}}, \\qquad \\forall k=1,\\dots,d,\n",
    "\\end{align*}\n",
    "where $r_{k} \\leq \\mathrm{rank}(X_{(k)})$, $U_{k} \\in \\mathbb{R}^{n_{k} \\times r_{k}}$, $\\Sigma_{k} = \\mathrm{diag}(\\sigma_{1}, \\dots, \\sigma_{r_{k}}) \\in \\mathbb{R}^{r_{k} \\times r_{k}}$ and $V_{k} \\in \\mathbb{R}^{ (n_{1} \\cdot \\ \\dots \\ \\cdot n_{k-1} \\cdot n_{k+1} \\cdot \\ \\dots \\ \\cdot n_{d}) \\times r_{k}}$. \\\n",
    "Then the core $G$ is given by\n",
    "\n",
    "\\begin{align*}\n",
    "    G = X \\times_{1} U^{\\mathrm{T}}_{r_{1}} \\times_{2} U^{\\mathrm{T}}_{r_{2}} \\times_{3} \\dots \\times_{d} U^{\\mathrm{T}}_{r_{d}} .\n",
    "\\end{align*}\n",
    "\n",
    "Now the HOSVD of $X$ with multirank $r$ is given by\n",
    "\n",
    "\\begin{align*}\n",
    "    [G; U_{r_{1}}, \\dots, U_{r_{d}} ] :=& \\  G \\times_{1} U_{r_{1}} \\times_{2} U_{r_{2}} \\times_{3} \\dots \\times_{d} U_{r_{d}} \\\\\n",
    "    =& \\ X \\times_{1} U_{r_{1}} U^{\\mathrm{T}}_{r_{1}} \\times_{2} U_{r_{2}} U^{\\mathrm{T}}_{r_{2}} \\times_{3} \\dots \\times_{d} U_{r_{d}} U^{\\mathrm{T}}_{r_{d}} \\approx X.\n",
    "\\end{align*}"
   ]
  },
  {
   "cell_type": "markdown",
   "id": "33ba2d6b-bbc5-45a9-b2db-750bfc738dc9",
   "metadata": {},
   "source": [
    "**Task: Implement a function which computes the HOSVD. The function should return the matrices $G,U_{1},\\dots, U_{d}$ for given tensor $X$ and given multirank $r$. (3 points)**\n",
    "\n",
    "Hint: To compute the HOSVD, follow the defintion above. Compute the 1st unfolding of X and then the corresponding truncated SVD. In the next step compute the 2nd unfolding of X and the corresponding truncated SVD. Repeat this until there is no more unfolding left."
   ]
  },
  {
   "cell_type": "code",
   "execution_count": 4,
   "id": "4ef30f57-7ec3-4437-b6e7-0639595db9a2",
   "metadata": {},
   "outputs": [],
   "source": [
    "ex = np.arange(start=1, stop=25).reshape(3,4, 2, order=\"F\")"
   ]
  },
  {
   "cell_type": "code",
   "execution_count": 5,
   "id": "b04042f6-c5f7-4f10-931d-09ef804c71ff",
   "metadata": {},
   "outputs": [],
   "source": [
    "def get_unfolding(tensor, mode):\n",
    "    if(mode<1):\n",
    "        raise ValueError('Bad range for mod')\n",
    "    return np.moveaxis(tensor, mode-1, 0).reshape(tensor.shape[mode-1], np.prod(tensor.shape)//tensor.shape[mode-1], order = 'F')"
   ]
  },
  {
   "cell_type": "code",
   "execution_count": 6,
   "id": "df854a76-ab4d-4bc9-8c5c-41c6d11ed3c4",
   "metadata": {},
   "outputs": [],
   "source": [
    "def modek_prod(tensor, matrix, mode):\n",
    "    return np.swapaxes(np.swapaxes(tensor, mode - 1, -1).dot(matrix.T), mode - 1, -1)"
   ]
  },
  {
   "cell_type": "code",
   "execution_count": 7,
   "id": "4982d23c-f092-48d9-89f4-a7b0b265c904",
   "metadata": {},
   "outputs": [],
   "source": [
    "def hosvd_decomposition(tensor, multirank):\n",
    "    u_list = [] #list of the u matrix \n",
    "    for i in range(1, len(tensor)+1):\n",
    "        unfold = get_unfolding(tensor, i)\n",
    "        U, s, Vh = randomized_svd(unfold, n_components=multirank[i-1], random_state=0) #truncated SVD\n",
    "        u_list.append(U) \n",
    "        \n",
    "    #compute G\n",
    "    G = modek_prod(tensor, u_list[0].T, 1)\n",
    "    for i in range(1, len(multirank)):\n",
    "        G = modek_prod(G, u_list[i].T, i+1)\n",
    "        \n",
    "    #compute the approx X\n",
    "    X_approx = modek_prod(G, u_list[0], 1)\n",
    "    for i in range(1, len(multirank)):\n",
    "        X_approx = modek_prod(X_approx, u_list[i], i+1)\n",
    "    return X_approx, G, u_list\n",
    "          "
   ]
  },
  {
   "cell_type": "code",
   "execution_count": 8,
   "id": "988b61f6-d9ad-4457-9e7e-e1a48544f8ce",
   "metadata": {},
   "outputs": [
    {
     "data": {
      "text/plain": [
       "(3, 4, 2)"
      ]
     },
     "execution_count": 8,
     "metadata": {},
     "output_type": "execute_result"
    }
   ],
   "source": [
    "X_approx, G, u_list = hosvd_decomposition(ex, (3, 4, 2))\n",
    "G.shape"
   ]
  },
  {
   "cell_type": "markdown",
   "id": "34229082-d23d-4516-a14a-807a98550232",
   "metadata": {},
   "source": [
    "**Task: Apply your function to the given tensor $X$. Try different values for the multirank $r$ and compute the distances between the HOSVD and $X$. (2 points)**"
   ]
  },
  {
   "cell_type": "code",
   "execution_count": 28,
   "id": "2e571019-790f-4433-8bca-aea024845acd",
   "metadata": {
    "tags": []
   },
   "outputs": [
    {
     "name": "stdout",
     "output_type": "stream",
     "text": [
      "The rank of X_aproxx (3, 2, 2) and the original (3, 4, 5)\n",
      "The Distance between the HOSVD and the original tensor is 1.228875971116375e-13\n",
      "----\n",
      "The rank of X_aproxx (3, 4, 4) and the original (3, 4, 5)\n",
      "The Distance between the HOSVD and the original tensor is 9.648189413995894e-14\n"
     ]
    }
   ],
   "source": [
    "X = np.arange(1,61).reshape((3, 4, 5), order = \"F\")\n",
    "#Different multirank examples\n",
    "X_app, G, u_list = hosvd_decomposition(X, (3, 2, 2))\n",
    "print(f'The rank of X_aproxx {(3, 2, 2)} and the original {X.shape}')\n",
    "print(f'The Distance between the HOSVD and the original tensor is {np.sqrt(np.sum((X-X_app)**2))}')\n",
    "print('----')\n",
    "X_app, G, u_list = hosvd_decomposition(X, (3, 4, 4))\n",
    "print(f'The rank of X_aproxx {(3, 4, 4)} and the original {X.shape}')\n",
    "print(f'The Distance between the HOSVD and the original tensor is {np.sqrt(np.sum((X-X_app)**2))}')"
   ]
  },
  {
   "cell_type": "markdown",
   "id": "42f2a29f-6e24-4811-9dea-942677810e5b",
   "metadata": {},
   "source": [
    "**Task: If you have a tensor $X \\in \\mathbb{R}^{5 \\times 4 \\times 8}$ and you have the HOSVD of multirank $r = (5,4,7)$ denoted by $T_{r}$, what is the error between $X$ and $T_{r}$ you would expect? (1 points)**"
   ]
  },
  {
   "cell_type": "markdown",
   "id": "30f45dad-b151-40c0-9cb4-ef5ba273e145",
   "metadata": {},
   "source": [
    "I won't except a big error since for the first 2 dimensions of the multirank stay basically the same for the approximation and for the last dimension we only go a dimension lower with the compression of the rank."
   ]
  },
  {
   "cell_type": "markdown",
   "id": "bf693778-73c4-4c78-a445-965bdc3792f3",
   "metadata": {},
   "source": []
  },
  {
   "cell_type": "markdown",
   "id": "e493a4ae-4dd7-4408-a0e5-b1b9a17f45bc",
   "metadata": {
    "tags": []
   },
   "source": [
    "# Task 3: Approximation of tensors"
   ]
  },
  {
   "cell_type": "markdown",
   "id": "0ad494ee-d9d6-456f-9239-70dd82fe4ffc",
   "metadata": {},
   "source": [
    "In this task we want to approximate a tensor by the HOSVD with smaller multirank than the original tensor. We have learned two different approaches to indicate a good approximation, the compression rate and the approximation error. For a tensor $X \\in \\mathbb{R}^{n_{1} \\times \\dots \\times n_{d}}$ and multirank $r=(r_{1}, \\dots, r_{d})$ we denote $T_{r}$ as the HoSVD with multirank $r$ of $X$. \\\n",
    "Then the approximation error is defined by\n",
    "\n",
    "\\begin{align*}\n",
    "    \\mathrm{approxerr} := \\frac{\\Vert X - T_{r} \\Vert}{\\Vert X \\Vert},\n",
    "\\end{align*}\n",
    "\n",
    "and the compression ratio is defined by\n",
    "\n",
    "\\begin{align*}\n",
    "    \\mathrm{comprat} := \\frac{\\prod\\limits_{k=1}^{d} r_{k} + \\sum\\limits_{k=1}^{d} r_{k} n_{k}}{\\prod\\limits_{k=1}^{d} n_{k}}.\n",
    "\\end{align*}\n",
    "A goal for the approximation of a tensor could be the minimization of the approximation error or the compression ratio.\n",
    "\n",
    "In the following we are interested in finding $T_{r}$ which minimizes the compression ratio under the condition that the approximation error is less than a certain accuracy $\\epsilon$. So we want to solve\n",
    "\n",
    "\\begin{align*}\n",
    "    \\underset{r = (r_{1},\\dots,r_{d})}{\\mathrm{min}} & \\ \\frac{\\prod\\limits_{k=1}^{d} r_{k} + \\sum\\limits_{k=1}^{d} r_{k} n_{k}}{\\prod\\limits_{k=1}^{d} n_{k}} \\qquad \\mathrm{s.t.} \\ \\frac{\\Vert X - T_{r} \\Vert}{\\Vert X \\Vert} \\leq \\epsilon\n",
    "\\end{align*}\n",
    "\n",
    "To obtain a good approximation of the solution one can use the fact that\n",
    "\n",
    "\\begin{align*}\n",
    "    \\Vert X - T_{r} \\Vert^{2} \\leq \\sum\\limits_{i_{1} = r_{1} + 1}^{n_{1}} \\left( \\sigma_{i_{1}}^{(1)} \\right)^{2} + \\sum\\limits_{i_{2} = r_{2} + 1}^{n_{2}} \\left( \\sigma_{i_{2}}^{(2)} \\right)^{2} + \\dots + \\sum\\limits_{i_{d} = r_{d} + 1}^{n_{d}} \\left( \\sigma_{i_{d}}^{(d)} \\right)^{2}, \n",
    "\\end{align*}\n",
    "where $\\sigma_{j}^{(k)}$ is the $j$-th singular value of the k-th unfolding $X_{(k)}$. \\\n",
    "To obtain the approximation of the minimization problem one can maximize the sum of the singular values w.r.t. $r = (r_{1}, \\dots, r_{k})$ such that the sum is still smaller than $\\epsilon^{2}$. So if we take the smallest $r = (r_{1}, \\dots, r_{k})$ such that\n",
    "\n",
    "\\begin{align*}\n",
    "    \\sum\\limits_{i_{1} = r_{1} + 1}^{n_{1}} \\left( \\sigma_{i_{1}}^{(1)} \\right)^{2} + \\sum\\limits_{i_{2} = r_{2} + 1}^{n_{2}} \\left( \\sigma_{i_{2}}^{(2)} \\right)^{2} + \\dots + \\sum\\limits_{i_{d} = r_{d} + 1}^{n_{d}} \\left( \\sigma_{i_{d}}^{(d)} \\right)^{2} \\leq \\epsilon^{2} \\Vert X \\Vert^2\n",
    "\\end{align*}\n",
    "\n",
    "holds, then we have found a good approximation of the solution for the minimization problem. \\\n",
    "To find this approximation $r = (r_{1}, \\dots, r_{k})$ you have to compute all singular values for each unfolding $X_{(k)}$. Then sum up all singular values starting with smallest one in ascending order until you reach $\\epsilon^{2}$. Now you know which singular values and how many singular you have to drop to reach the approximation."
   ]
  },
  {
   "cell_type": "markdown",
   "id": "9aac7522-e95b-4d74-bddc-4c0315b56217",
   "metadata": {},
   "source": [
    "**Task: Write a function which computes the best multirank $r$ for the above defined minimization problem. The function should have a tensor $X$ and an array containg different values for the accuracy $\\epsilon$ as inputs. The function should return the multirank $r$ for each accuracy $\\epsilon$ in your array. (4 points)**"
   ]
  },
  {
   "cell_type": "code",
   "execution_count": 12,
   "id": "198446e4-3bbe-4440-a151-d9fc01812a01",
   "metadata": {},
   "outputs": [
    {
     "data": {
      "text/plain": [
       "array([3, 3, 3, 3, 3, 3, 3, 3, 3, 3, 1, 2, 3])"
      ]
     },
     "execution_count": 12,
     "metadata": {},
     "output_type": "execute_result"
    }
   ],
   "source": [
    "np.concatenate((np.full(10, 3),np.array([1, 2, 3])))"
   ]
  },
  {
   "cell_type": "code",
   "execution_count": 13,
   "id": "1823eb37-a74a-4acf-894f-23f4e1953374",
   "metadata": {},
   "outputs": [],
   "source": [
    "def custom_sort_tupel(arr1, arr2):\n",
    "    combined = list(zip(arr1, arr2)) #zip the list in an array of tuples\n",
    "    combined.sort(key=lambda x: x[0]) #sort only by the first argument in the tuples\n",
    "    arr1[:], arr2[:] = zip(*combined) #unzip in two arrays, where the first one is sorted and in the second one the elements followed the interchance of pos int the first one\n",
    "    return arr1, arr2"
   ]
  },
  {
   "cell_type": "code",
   "execution_count": 29,
   "id": "6343a763-d784-4537-ad8a-552f3c0f2b94",
   "metadata": {
    "tags": []
   },
   "outputs": [],
   "source": [
    "def minim_rank(X, acc_arr):\n",
    "    sing_values = []\n",
    "    rank = []\n",
    "    x_shape = list(X.shape)\n",
    "    minim_rank = []\n",
    "\n",
    "    #singular values and their according dimension/mode where they were calculated\n",
    "    for i in range(1, len(X)+1):\n",
    "        unfold = get_unfolding(X, i)\n",
    "        sing_values = sing_values + list(np.linalg.svd(unfold)[1])\n",
    "        rank = rank + list(np.full(len(np.linalg.svd(unfold)[1]), i))\n",
    "    sing_values, rank = custom_sort_tupel(sing_values, rank) #sort the singular values and also intechange the rank pos in the rank array \n",
    "\n",
    "    # iterate through the accuracies\n",
    "    for acc in acc_arr:\n",
    "        sum_eig_val = 0\n",
    "        index_stop = len(sing_values)\n",
    "        min_r=list(X.shape)\n",
    "        #sum the singular values\n",
    "        for value in sing_values:\n",
    "            sum_eig_val += value\n",
    "            if(sum_eig_val>acc**2): #braeak condition\n",
    "                index_stop = sing_values.index(value)\n",
    "                break\n",
    "        for i in range(index_stop): #substract from the actual rank how much we can reduce our dimensions\n",
    "            min_r[rank[i]-1] -= 1\n",
    "        minim_rank.append(tuple(min_r))\n",
    "        \n",
    "    return minim_rank"
   ]
  },
  {
   "cell_type": "markdown",
   "id": "6c9ef0e6-32b1-4117-b42c-f65249e35137",
   "metadata": {},
   "source": [
    "**Task: Compute the multirank $r$ of the given tensor $X$ for the accuracies $0.01$, $0.02$ and $0.1$. Compute the remaining HOSVDs $T_{r}$ and print the approximation error. (2 points)**"
   ]
  },
  {
   "cell_type": "code",
   "execution_count": 30,
   "id": "c5ea61c2-44eb-44e2-8c00-5f50d75aacf2",
   "metadata": {},
   "outputs": [
    {
     "name": "stdout",
     "output_type": "stream",
     "text": [
      "(3, 4, 5)\n"
     ]
    },
    {
     "data": {
      "text/plain": [
       "[(2, 2, 2), (2, 2, 2), (2, 2, 2)]"
      ]
     },
     "execution_count": 30,
     "metadata": {},
     "output_type": "execute_result"
    }
   ],
   "source": [
    "X = np.arange(1,61).reshape((3, 4, 5), order = \"F\")\n",
    "print(X.shape)\n",
    "minim_rank(X, [0.01, 0.02, 0.1])"
   ]
  },
  {
   "cell_type": "code",
   "execution_count": 51,
   "id": "eb8d6c8a-e9ff-43da-a6af-e6cddfa0f627",
   "metadata": {
    "tags": []
   },
   "outputs": [
    {
     "name": "stdout",
     "output_type": "stream",
     "text": [
      "1.0566057328026412e-13\n"
     ]
    }
   ],
   "source": [
    "X = np.arange(1,61).reshape((3, 4, 5), order = \"F\")\n",
    "X_app, G, u_list = hosvd_decomposition(X, (2, 2, 2))\n",
    "eroor = get_unfolding((X-X_app), 2)\n",
    "print(np.linalg.norm(eroor, 'fro'))"
   ]
  },
  {
   "cell_type": "markdown",
   "id": "699571e3-f3b0-4aee-87a0-7d78f25d07b4",
   "metadata": {},
   "source": [
    "# Task 4: Application \n",
    "\n",
    "In the last part we want to extract some information about the **Miranda Turbulent Flow** tensor. To do this we need our above defined functions."
   ]
  },
  {
   "cell_type": "markdown",
   "id": "cf1299f7-ca16-4368-bf67-1a7aadd688a1",
   "metadata": {},
   "source": [
    "In the first step we want approximate the **Miranda Turbulent Flow** tensor. We want to compute HOSVD of the tensor under given accuracy $\\epsilon$ and we want to look at the corresponding approximation error, core size and compression rate.\n",
    "\n",
    "**Task: Write a function which computes the HOSVD of a tensor for given accuracies. The function should return a dataframe which contains the accuracies, approximation error, core size and compression rate. The function should also return the corresponding HOSVDs. (4 points)**\n",
    "\n",
    "Hint: You can use `pandas.DataFrame` to construct such dataframe. Your resulting dataframe should look as follows.\n",
    "\n",
    "Accuracy | Approx. error | Core size | Compression ratio\n",
    "---|---|--- | ---\n",
    "0.0001 | 0.000099 | 240x163x159 | 0.244084\n",
    "0.001  | 0.000982 | 160x109x107 | 0.075736\n",
    "0.01   | 0.009465 |  75x52x52   | 0.009896\n",
    "0.1    | 0.077167 |  10x9x8     | 0.000346"
   ]
  },
  {
   "cell_type": "code",
   "execution_count": null,
   "id": "c5d61633-0f34-445e-b4dd-86dd49c308ed",
   "metadata": {
    "tags": []
   },
   "outputs": [],
   "source": []
  },
  {
   "cell_type": "markdown",
   "id": "db490410-6209-428e-8814-632e773bd847",
   "metadata": {},
   "source": [
    "**Task: Apply your function to the Miranda Turbulent Flow tensor `data` and plot the dataframe. (1 points)**\n",
    "\n",
    "Hint: Keep in mind that the Miranda Turbulent Flow tensor is large. So this process can take 10-20 minutes."
   ]
  },
  {
   "cell_type": "code",
   "execution_count": null,
   "id": "be9dee5b-f1fe-44d3-82b2-3d98a0e9da11",
   "metadata": {
    "tags": []
   },
   "outputs": [],
   "source": []
  },
  {
   "cell_type": "markdown",
   "id": "d19d05ec-c8d5-420c-9d8e-3e500d564dbf",
   "metadata": {},
   "source": [
    "The following function creates a $3 \\times 4$ subplot. Each row corresponds to a certain slice of the tensor and each column contains the approxmations of the slices w.r.t. to a certain accuracy. The function has 4 inputs. The first input is the original which we defined as `data`. The second input is the HOSVD w.r.t. accuracy 0.001, the third input is the HOSVD w.r.t. accuracy 0.01 and the fourth input is the HOSVD w.r.t. accuracy 0.1.\n",
    "\n",
    "Execute the following code."
   ]
  },
  {
   "cell_type": "code",
   "execution_count": 18,
   "id": "30194057-7166-4da0-8fb5-80193333615e",
   "metadata": {
    "tags": []
   },
   "outputs": [],
   "source": [
    "def plot_slice(data,tensor1,tensor2,tensor3):\n",
    "\n",
    "    fig, axs = plt.subplots(3, 4, figsize=(15, 15))\n",
    "    axs[0, 0].imshow(data[:,64,:])\n",
    "    axs[0, 0].set_ylabel('Data[:,64,:]')\n",
    "    axs[0, 0].set_title('original')\n",
    "    axs[0, 0].set_xticks([])\n",
    "    axs[0, 0].set_yticks([])\n",
    "\n",
    "    axs[0, 1].imshow(tensor1[:,64,:])\n",
    "    axs[0, 1].set_title('tol = 0.001')\n",
    "    axs[0, 1].axis(\"off\")\n",
    "\n",
    "    axs[0, 2].imshow(tensor2[:,64,:])\n",
    "    axs[0, 2].set_title('tol = 0.01')\n",
    "    axs[0, 2].axis(\"off\")\n",
    "\n",
    "    axs[0, 3].imshow(tensor3[:,64,:])\n",
    "    axs[0, 3].set_title('tol = 0.1')\n",
    "    axs[0, 3].axis(\"off\")\n",
    "\n",
    "    axs[1, 0].imshow(data[:,128,:])\n",
    "    axs[1, 0].set_ylabel('Data[:,128,:]')\n",
    "    axs[1, 0].set_xticks([])\n",
    "    axs[1, 0].set_yticks([])\n",
    "\n",
    "    axs[1, 1].imshow(tensor1[:,128,:])\n",
    "    axs[1, 1].axis(\"off\")\n",
    "\n",
    "    axs[1, 2].imshow(tensor2[:,128,:])\n",
    "    axs[1, 2].axis(\"off\")\n",
    "\n",
    "    axs[1, 3].imshow(tensor3[:,128,:])\n",
    "    axs[1, 3].axis(\"off\")\n",
    "\n",
    "    axs[2, 0].imshow(data[:,192,:])\n",
    "    axs[2, 0].set_ylabel('Data[:,192,:]')\n",
    "    axs[2, 0].set_xticks([])\n",
    "    axs[2, 0].set_yticks([])\n",
    "\n",
    "    axs[2, 1].imshow(tensor1[:,192,:])\n",
    "    axs[2, 1].axis(\"off\")\n",
    "\n",
    "    axs[2, 2].imshow(tensor2[:,192,:])\n",
    "    axs[2, 2].axis(\"off\")\n",
    "\n",
    "    axs[2, 3].imshow(tensor3[:,192,:])\n",
    "    axs[2, 3].axis(\"off\")\n",
    "\n",
    "    plt.show()"
   ]
  },
  {
   "cell_type": "markdown",
   "id": "6a620465-9c55-450e-b829-79bb0cfd6e59",
   "metadata": {},
   "source": [
    "**Task: Use the function to plot your computed HOSVDs. (1 points)**"
   ]
  },
  {
   "cell_type": "code",
   "execution_count": null,
   "id": "2e2e22a6-6150-4290-9b35-ab4770a73a23",
   "metadata": {
    "tags": []
   },
   "outputs": [],
   "source": []
  },
  {
   "cell_type": "markdown",
   "id": "d937fc86-927a-4b20-bd48-c21da22d4d8c",
   "metadata": {},
   "source": [
    "**Task: Describe what you can see in the plots. Explain the difference between the images in one row. (2 points)**"
   ]
  },
  {
   "cell_type": "markdown",
   "id": "279cb1a3-9b1c-4040-b947-0f8ba67b786e",
   "metadata": {},
   "source": []
  }
 ],
 "metadata": {
  "kernelspec": {
   "display_name": "Python 3 (ipykernel)",
   "language": "python",
   "name": "python3"
  },
  "language_info": {
   "codemirror_mode": {
    "name": "ipython",
    "version": 3
   },
   "file_extension": ".py",
   "mimetype": "text/x-python",
   "name": "python",
   "nbconvert_exporter": "python",
   "pygments_lexer": "ipython3",
   "version": "3.11.9"
  }
 },
 "nbformat": 4,
 "nbformat_minor": 5
}
